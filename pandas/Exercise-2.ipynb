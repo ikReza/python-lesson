{
 "cells": [
  {
   "cell_type": "markdown",
   "metadata": {},
   "source": [
    "We know, the text inside double quote(\"\") is called `string`. What we write inside double quote, `print()` function prints exactly the same information"
   ]
  },
  {
   "cell_type": "code",
   "execution_count": 1,
   "metadata": {},
   "outputs": [
    {
     "name": "stdout",
     "output_type": "stream",
     "text": [
      "good morning 🌤\n"
     ]
    }
   ],
   "source": [
    "print(\"good morning 🌤\")"
   ]
  },
  {
   "cell_type": "markdown",
   "metadata": {},
   "source": [
    "Suppose we have variables like this.\n",
    "```py\n",
    "name = \"Tom\"\n",
    "age = 21\n",
    "```\n",
    "\n",
    "if we use `print()` function, e.g. `print(name)`; only the value will gets printed"
   ]
  },
  {
   "cell_type": "code",
   "execution_count": 3,
   "metadata": {},
   "outputs": [
    {
     "name": "stdout",
     "output_type": "stream",
     "text": [
      "Tom 21\n"
     ]
    }
   ],
   "source": [
    "name, age = \"Tom\", 21\n",
    "print(name, age)"
   ]
  },
  {
   "cell_type": "markdown",
   "metadata": {},
   "source": [
    "###### How can we print both string and their value in dynamic way?\n",
    "\n",
    "e.g. `My name is Tom & I'm 21 years old`\n",
    "\n",
    "We can do that in a way that is called `string formatting`. There's 2 way to do that"
   ]
  },
  {
   "cell_type": "code",
   "execution_count": 9,
   "metadata": {},
   "outputs": [
    {
     "name": "stdout",
     "output_type": "stream",
     "text": [
      "option-1\n",
      "My name is Tom & I'm 21 years old\n",
      "\n",
      "option-2\n",
      "My name is Tom & I'm 21 years old\n"
     ]
    }
   ],
   "source": [
    "name, age = \"Tom\", 21\n",
    "\n",
    "# option-1\n",
    "print(\"option-1\")\n",
    "print(\"My name is {} & I'm {} years old\".format(name, age))\n",
    "\n",
    "# option-2\n",
    "print(\"\\noption-2\")\n",
    "print(f\"My name is {name} & I'm {age} years old\")"
   ]
  },
  {
   "cell_type": "markdown",
   "metadata": {},
   "source": [
    "### indexing\n",
    "\n",
    "In real world counting starts from 1, but in coding world counting strats from 0\n",
    "\n",
    "e.g.\n",
    "```py\n",
    "word = \"okay\"\n",
    "```\n",
    "\n",
    "in the above `text`, if you ask anyone they will say, there are 4 alphabets in the `word`. And it will be indexed as:\n",
    "- 1: o\n",
    "- 2: k\n",
    "- 3: a\n",
    "- 4: y\n",
    "\n",
    "But in coding, we know the indexing starts from zero(0). So,\n",
    "- 0: o\n",
    "- 1: k\n",
    "- 2: a\n",
    "- 3: y\n",
    "\n",
    "|0|1|2|3|\n",
    "|:-:|:-:|:-:|:-:|\n",
    "|o|k|a|y|"
   ]
  },
  {
   "cell_type": "code",
   "execution_count": 17,
   "metadata": {},
   "outputs": [
    {
     "name": "stdout",
     "output_type": "stream",
     "text": [
      "o\n"
     ]
    }
   ],
   "source": [
    "word = \"okay\"\n",
    "print(word[0])"
   ]
  },
  {
   "cell_type": "markdown",
   "metadata": {},
   "source": [
    "in python, we can get the 1st word from text as `word[0]`. Similarly we can get the other words"
   ]
  },
  {
   "cell_type": "code",
   "execution_count": 18,
   "metadata": {},
   "outputs": [
    {
     "name": "stdout",
     "output_type": "stream",
     "text": [
      "k a y\n"
     ]
    }
   ],
   "source": [
    "print(word[1], word[2], word[3])"
   ]
  },
  {
   "cell_type": "markdown",
   "metadata": {},
   "source": [
    "#### observation: \n",
    "If we try to use index out of range, like `word[5]`, we'll get `IndexError: string index out of range` like below"
   ]
  },
  {
   "cell_type": "code",
   "execution_count": 20,
   "metadata": {},
   "outputs": [
    {
     "ename": "IndexError",
     "evalue": "string index out of range",
     "output_type": "error",
     "traceback": [
      "\u001b[1;31m---------------------------------------------------------------------------\u001b[0m",
      "\u001b[1;31mIndexError\u001b[0m                                Traceback (most recent call last)",
      "\u001b[1;32m<ipython-input-20-bab53c65d0ff>\u001b[0m in \u001b[0;36m<module>\u001b[1;34m\u001b[0m\n\u001b[1;32m----> 1\u001b[1;33m \u001b[0mword\u001b[0m\u001b[1;33m[\u001b[0m\u001b[1;36m5\u001b[0m\u001b[1;33m]\u001b[0m\u001b[1;33m\u001b[0m\u001b[1;33m\u001b[0m\u001b[0m\n\u001b[0m",
      "\u001b[1;31mIndexError\u001b[0m: string index out of range"
     ]
    }
   ],
   "source": [
    "word[5]"
   ]
  },
  {
   "cell_type": "markdown",
   "metadata": {},
   "source": [
    "we can print every word just using a for loop too"
   ]
  },
  {
   "cell_type": "code",
   "execution_count": 21,
   "metadata": {},
   "outputs": [
    {
     "name": "stdout",
     "output_type": "stream",
     "text": [
      "o\n",
      "k\n",
      "a\n",
      "y\n"
     ]
    }
   ],
   "source": [
    "word = \"okay\"\n",
    "\n",
    "for i in range(len(word)):\n",
    "    print(word[i])"
   ]
  },
  {
   "cell_type": "markdown",
   "metadata": {},
   "source": [
    "to understand `for` loop "
   ]
  }
 ],
 "metadata": {
  "kernelspec": {
   "display_name": "Python 3",
   "language": "python",
   "name": "python3"
  },
  "language_info": {
   "codemirror_mode": {
    "name": "ipython",
    "version": 3
   },
   "file_extension": ".py",
   "mimetype": "text/x-python",
   "name": "python",
   "nbconvert_exporter": "python",
   "pygments_lexer": "ipython3",
   "version": "3.7.4"
  }
 },
 "nbformat": 4,
 "nbformat_minor": 4
}
