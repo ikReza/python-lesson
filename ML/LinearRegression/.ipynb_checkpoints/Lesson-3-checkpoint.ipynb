{
 "cells": [
  {
   "cell_type": "code",
   "execution_count": 1,
   "metadata": {},
   "outputs": [],
   "source": [
    "import pandas as pd\n",
    "import numpy as np\n",
    "import matplotlib.pyplot as plt\n",
    "plt.style.use(\"default\")"
   ]
  },
  {
   "cell_type": "code",
   "execution_count": 3,
   "metadata": {},
   "outputs": [
    {
     "data": {
      "text/html": [
       "<div>\n",
       "<style scoped>\n",
       "    .dataframe tbody tr th:only-of-type {\n",
       "        vertical-align: middle;\n",
       "    }\n",
       "\n",
       "    .dataframe tbody tr th {\n",
       "        vertical-align: top;\n",
       "    }\n",
       "\n",
       "    .dataframe thead th {\n",
       "        text-align: right;\n",
       "    }\n",
       "</style>\n",
       "<table border=\"1\" class=\"dataframe\">\n",
       "  <thead>\n",
       "    <tr style=\"text-align: right;\">\n",
       "      <th></th>\n",
       "      <th>y_test</th>\n",
       "      <th>y_pred_linear</th>\n",
       "      <th>X_train</th>\n",
       "      <th>X_train.1</th>\n",
       "      <th>X_train.2</th>\n",
       "      <th>X_train.3</th>\n",
       "      <th>X_test</th>\n",
       "      <th>X_test.1</th>\n",
       "      <th>X_test.2</th>\n",
       "      <th>X_test.3</th>\n",
       "      <th>y_train</th>\n",
       "    </tr>\n",
       "  </thead>\n",
       "  <tbody>\n",
       "    <tr>\n",
       "      <td>0</td>\n",
       "      <td>10.0</td>\n",
       "      <td>19.812340</td>\n",
       "      <td>443.87</td>\n",
       "      <td>31.00</td>\n",
       "      <td>57.17</td>\n",
       "      <td>817.38</td>\n",
       "      <td>426.43</td>\n",
       "      <td>23.00</td>\n",
       "      <td>38.67</td>\n",
       "      <td>684.75</td>\n",
       "      <td>3.0</td>\n",
       "    </tr>\n",
       "    <tr>\n",
       "      <td>1</td>\n",
       "      <td>16.0</td>\n",
       "      <td>15.663241</td>\n",
       "      <td>441.55</td>\n",
       "      <td>33.30</td>\n",
       "      <td>53.63</td>\n",
       "      <td>663.37</td>\n",
       "      <td>413.56</td>\n",
       "      <td>26.48</td>\n",
       "      <td>32.45</td>\n",
       "      <td>628.68</td>\n",
       "      <td>3.0</td>\n",
       "    </tr>\n",
       "    <tr>\n",
       "      <td>2</td>\n",
       "      <td>15.0</td>\n",
       "      <td>12.626890</td>\n",
       "      <td>430.52</td>\n",
       "      <td>35.87</td>\n",
       "      <td>46.93</td>\n",
       "      <td>423.74</td>\n",
       "      <td>408.11</td>\n",
       "      <td>29.93</td>\n",
       "      <td>29.27</td>\n",
       "      <td>578.41</td>\n",
       "      <td>2.0</td>\n",
       "    </tr>\n",
       "    <tr>\n",
       "      <td>3</td>\n",
       "      <td>11.0</td>\n",
       "      <td>10.904763</td>\n",
       "      <td>421.59</td>\n",
       "      <td>37.24</td>\n",
       "      <td>42.24</td>\n",
       "      <td>363.13</td>\n",
       "      <td>402.32</td>\n",
       "      <td>31.14</td>\n",
       "      <td>26.41</td>\n",
       "      <td>523.32</td>\n",
       "      <td>2.0</td>\n",
       "    </tr>\n",
       "    <tr>\n",
       "      <td>4</td>\n",
       "      <td>6.0</td>\n",
       "      <td>9.239786</td>\n",
       "      <td>422.41</td>\n",
       "      <td>37.34</td>\n",
       "      <td>42.52</td>\n",
       "      <td>489.05</td>\n",
       "      <td>396.36</td>\n",
       "      <td>32.38</td>\n",
       "      <td>20.83</td>\n",
       "      <td>382.75</td>\n",
       "      <td>1.0</td>\n",
       "    </tr>\n",
       "  </tbody>\n",
       "</table>\n",
       "</div>"
      ],
      "text/plain": [
       "   y_test  y_pred_linear  X_train  X_train.1  X_train.2  X_train.3  X_test  \\\n",
       "0    10.0      19.812340   443.87      31.00      57.17     817.38  426.43   \n",
       "1    16.0      15.663241   441.55      33.30      53.63     663.37  413.56   \n",
       "2    15.0      12.626890   430.52      35.87      46.93     423.74  408.11   \n",
       "3    11.0      10.904763   421.59      37.24      42.24     363.13  402.32   \n",
       "4     6.0       9.239786   422.41      37.34      42.52     489.05  396.36   \n",
       "\n",
       "   X_test.1  X_test.2  X_test.3  y_train  \n",
       "0     23.00     38.67    684.75      3.0  \n",
       "1     26.48     32.45    628.68      3.0  \n",
       "2     29.93     29.27    578.41      2.0  \n",
       "3     31.14     26.41    523.32      2.0  \n",
       "4     32.38     20.83    382.75      1.0  "
      ]
     },
     "execution_count": 3,
     "metadata": {},
     "output_type": "execute_result"
    }
   ],
   "source": [
    "df = pd.read_excel(\"data/GET-R2.xlsx\")\n",
    "df.head()"
   ]
  },
  {
   "cell_type": "code",
   "execution_count": 6,
   "metadata": {},
   "outputs": [
    {
     "data": {
      "text/plain": [
       "(108, 2)"
      ]
     },
     "execution_count": 6,
     "metadata": {},
     "output_type": "execute_result"
    }
   ],
   "source": [
    "df2 = pd.read_csv(\"data/R2-test-for-Linear.csv\")\n",
    "df2.shape"
   ]
  },
  {
   "cell_type": "code",
   "execution_count": 12,
   "metadata": {},
   "outputs": [
    {
     "data": {
      "text/html": [
       "<div>\n",
       "<style scoped>\n",
       "    .dataframe tbody tr th:only-of-type {\n",
       "        vertical-align: middle;\n",
       "    }\n",
       "\n",
       "    .dataframe tbody tr th {\n",
       "        vertical-align: top;\n",
       "    }\n",
       "\n",
       "    .dataframe thead th {\n",
       "        text-align: right;\n",
       "    }\n",
       "</style>\n",
       "<table border=\"1\" class=\"dataframe\">\n",
       "  <thead>\n",
       "    <tr style=\"text-align: right;\">\n",
       "      <th></th>\n",
       "      <th>y_test</th>\n",
       "      <th>y_pred_linear</th>\n",
       "    </tr>\n",
       "  </thead>\n",
       "  <tbody>\n",
       "    <tr>\n",
       "      <td>0</td>\n",
       "      <td>3.0</td>\n",
       "      <td>13.416981</td>\n",
       "    </tr>\n",
       "    <tr>\n",
       "      <td>1</td>\n",
       "      <td>3.0</td>\n",
       "      <td>12.277990</td>\n",
       "    </tr>\n",
       "    <tr>\n",
       "      <td>2</td>\n",
       "      <td>3.0</td>\n",
       "      <td>13.801432</td>\n",
       "    </tr>\n",
       "    <tr>\n",
       "      <td>3</td>\n",
       "      <td>4.0</td>\n",
       "      <td>14.032488</td>\n",
       "    </tr>\n",
       "    <tr>\n",
       "      <td>4</td>\n",
       "      <td>4.0</td>\n",
       "      <td>13.640793</td>\n",
       "    </tr>\n",
       "  </tbody>\n",
       "</table>\n",
       "</div>"
      ],
      "text/plain": [
       "   y_test  y_pred_linear\n",
       "0     3.0      13.416981\n",
       "1     3.0      12.277990\n",
       "2     3.0      13.801432\n",
       "3     4.0      14.032488\n",
       "4     4.0      13.640793"
      ]
     },
     "execution_count": 12,
     "metadata": {},
     "output_type": "execute_result"
    }
   ],
   "source": [
    "df2.head()"
   ]
  },
  {
   "cell_type": "code",
   "execution_count": 4,
   "metadata": {},
   "outputs": [
    {
     "data": {
      "text/plain": [
       "(1007, 11)"
      ]
     },
     "execution_count": 4,
     "metadata": {},
     "output_type": "execute_result"
    }
   ],
   "source": [
    "df.shape"
   ]
  },
  {
   "cell_type": "code",
   "execution_count": 8,
   "metadata": {},
   "outputs": [],
   "source": [
    "df.dropna(inplace=True)"
   ]
  },
  {
   "cell_type": "code",
   "execution_count": 11,
   "metadata": {},
   "outputs": [
    {
     "data": {
      "text/plain": [
       "(263, 11)"
      ]
     },
     "execution_count": 11,
     "metadata": {},
     "output_type": "execute_result"
    }
   ],
   "source": [
    "df.shape"
   ]
  },
  {
   "cell_type": "code",
   "execution_count": 16,
   "metadata": {},
   "outputs": [
    {
     "name": "stdout",
     "output_type": "stream",
     "text": [
      "105.86500000000004 76.06099999999998\n"
     ]
    },
    {
     "data": {
      "text/plain": [
       "(1.391843388858943, 0.7184716384074052)"
      ]
     },
     "execution_count": 16,
     "metadata": {},
     "output_type": "execute_result"
    }
   ],
   "source": [
    "y = [21, 21, 22.8, 21.4, 18.7, 18.1, 14.3, 24.4, 22.8, 19.2]\n",
    "y_pred = [21.5, 21.14, 26.1, 20.2, 17.5, 19.7, 14.9, 22.5, 25.1, 18]\n",
    "\n",
    "total_1, total_2 = 0, 0\n",
    "y_mean = np.mean(y)\n",
    "\n",
    "for i in range(len(y)):\n",
    "    diff1 = y_pred[i] - y_mean\n",
    "    diff_sq1 = diff1 * diff1\n",
    "    total_1 += diff_sq1\n",
    "    \n",
    "    diff2 = y[i] - y_mean\n",
    "    diff_sq2 = diff2 * diff2\n",
    "    total_2 += diff_sq2\n",
    "    \n",
    "print(total_1, total_2)\n",
    "my_R2 = total_1/total_2\n",
    "my_R2, 1/my_R2"
   ]
  },
  {
   "cell_type": "code",
   "execution_count": 28,
   "metadata": {},
   "outputs": [
    {
     "data": {
      "text/plain": [
       "(27.29959999999999, 76.06099999999998)"
      ]
     },
     "execution_count": 28,
     "metadata": {},
     "output_type": "execute_result"
    }
   ],
   "source": [
    "total1, total2 = 0, 0\n",
    "\n",
    "for i in range(len(y)):\n",
    "    total1 += (y[i]-y_pred[i])**2\n",
    "    total2 += (y[i]-y_mean)**2\n",
    "    \n",
    "total1, total2"
   ]
  },
  {
   "cell_type": "code",
   "execution_count": 29,
   "metadata": {},
   "outputs": [
    {
     "data": {
      "text/plain": [
       "0.6410828151089257"
      ]
     },
     "execution_count": 29,
     "metadata": {},
     "output_type": "execute_result"
    }
   ],
   "source": [
    "1 - total1/total2"
   ]
  },
  {
   "cell_type": "code",
   "execution_count": 23,
   "metadata": {},
   "outputs": [
    {
     "data": {
      "text/plain": [
       "48.76139999999999"
      ]
     },
     "execution_count": 23,
     "metadata": {},
     "output_type": "execute_result"
    }
   ],
   "source": [
    "total2 - total1"
   ]
  },
  {
   "cell_type": "code",
   "execution_count": 27,
   "metadata": {},
   "outputs": [
    {
     "name": "stdout",
     "output_type": "stream",
     "text": [
      "21.5\n",
      "21.14\n",
      "26.1\n",
      "20.2\n",
      "17.5\n",
      "19.7\n",
      "14.9\n",
      "22.5\n",
      "25.1\n",
      "18\n"
     ]
    },
    {
     "data": {
      "text/plain": [
       "105.86500000000004"
      ]
     },
     "execution_count": 27,
     "metadata": {},
     "output_type": "execute_result"
    }
   ],
   "source": [
    "faltu = 0\n",
    "\n",
    "for i in range(len(y)):\n",
    "    faltu += (y_pred[i]-y_mean)**2\n",
    "    print(y_pred[i])\n",
    "    \n",
    "faltu"
   ]
  },
  {
   "cell_type": "code",
   "execution_count": null,
   "metadata": {},
   "outputs": [],
   "source": []
  }
 ],
 "metadata": {
  "kernelspec": {
   "display_name": "Python 3",
   "language": "python",
   "name": "python3"
  },
  "language_info": {
   "codemirror_mode": {
    "name": "ipython",
    "version": 3
   },
   "file_extension": ".py",
   "mimetype": "text/x-python",
   "name": "python",
   "nbconvert_exporter": "python",
   "pygments_lexer": "ipython3",
   "version": "3.7.4"
  }
 },
 "nbformat": 4,
 "nbformat_minor": 4
}
