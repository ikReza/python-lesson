{
 "cells": [
  {
   "cell_type": "code",
   "execution_count": 1,
   "metadata": {},
   "outputs": [],
   "source": [
    "import pandas as pd\n",
    "import numpy as np\n",
    "import matplotlib.pyplot as plt\n",
    "plt.style.use(\"default\")"
   ]
  },
  {
   "cell_type": "code",
   "execution_count": 2,
   "metadata": {},
   "outputs": [
    {
     "data": {
      "text/html": [
       "<div>\n",
       "<style scoped>\n",
       "    .dataframe tbody tr th:only-of-type {\n",
       "        vertical-align: middle;\n",
       "    }\n",
       "\n",
       "    .dataframe tbody tr th {\n",
       "        vertical-align: top;\n",
       "    }\n",
       "\n",
       "    .dataframe thead th {\n",
       "        text-align: right;\n",
       "    }\n",
       "</style>\n",
       "<table border=\"1\" class=\"dataframe\">\n",
       "  <thead>\n",
       "    <tr style=\"text-align: right;\">\n",
       "      <th></th>\n",
       "      <th>y_test</th>\n",
       "      <th>y_pred_linear</th>\n",
       "      <th>X_train</th>\n",
       "      <th>X_train.1</th>\n",
       "      <th>X_train.2</th>\n",
       "      <th>X_train.3</th>\n",
       "      <th>X_test</th>\n",
       "      <th>X_test.1</th>\n",
       "      <th>X_test.2</th>\n",
       "      <th>X_test.3</th>\n",
       "      <th>y_train</th>\n",
       "    </tr>\n",
       "  </thead>\n",
       "  <tbody>\n",
       "    <tr>\n",
       "      <td>0</td>\n",
       "      <td>10.0</td>\n",
       "      <td>19.812340</td>\n",
       "      <td>443.87</td>\n",
       "      <td>31.00</td>\n",
       "      <td>57.17</td>\n",
       "      <td>817.38</td>\n",
       "      <td>426.43</td>\n",
       "      <td>23.00</td>\n",
       "      <td>38.67</td>\n",
       "      <td>684.75</td>\n",
       "      <td>3.0</td>\n",
       "    </tr>\n",
       "    <tr>\n",
       "      <td>1</td>\n",
       "      <td>16.0</td>\n",
       "      <td>15.663241</td>\n",
       "      <td>441.55</td>\n",
       "      <td>33.30</td>\n",
       "      <td>53.63</td>\n",
       "      <td>663.37</td>\n",
       "      <td>413.56</td>\n",
       "      <td>26.48</td>\n",
       "      <td>32.45</td>\n",
       "      <td>628.68</td>\n",
       "      <td>3.0</td>\n",
       "    </tr>\n",
       "    <tr>\n",
       "      <td>2</td>\n",
       "      <td>15.0</td>\n",
       "      <td>12.626890</td>\n",
       "      <td>430.52</td>\n",
       "      <td>35.87</td>\n",
       "      <td>46.93</td>\n",
       "      <td>423.74</td>\n",
       "      <td>408.11</td>\n",
       "      <td>29.93</td>\n",
       "      <td>29.27</td>\n",
       "      <td>578.41</td>\n",
       "      <td>2.0</td>\n",
       "    </tr>\n",
       "    <tr>\n",
       "      <td>3</td>\n",
       "      <td>11.0</td>\n",
       "      <td>10.904763</td>\n",
       "      <td>421.59</td>\n",
       "      <td>37.24</td>\n",
       "      <td>42.24</td>\n",
       "      <td>363.13</td>\n",
       "      <td>402.32</td>\n",
       "      <td>31.14</td>\n",
       "      <td>26.41</td>\n",
       "      <td>523.32</td>\n",
       "      <td>2.0</td>\n",
       "    </tr>\n",
       "    <tr>\n",
       "      <td>4</td>\n",
       "      <td>6.0</td>\n",
       "      <td>9.239786</td>\n",
       "      <td>422.41</td>\n",
       "      <td>37.34</td>\n",
       "      <td>42.52</td>\n",
       "      <td>489.05</td>\n",
       "      <td>396.36</td>\n",
       "      <td>32.38</td>\n",
       "      <td>20.83</td>\n",
       "      <td>382.75</td>\n",
       "      <td>1.0</td>\n",
       "    </tr>\n",
       "  </tbody>\n",
       "</table>\n",
       "</div>"
      ],
      "text/plain": [
       "   y_test  y_pred_linear  X_train  X_train.1  X_train.2  X_train.3  X_test  \\\n",
       "0    10.0      19.812340   443.87      31.00      57.17     817.38  426.43   \n",
       "1    16.0      15.663241   441.55      33.30      53.63     663.37  413.56   \n",
       "2    15.0      12.626890   430.52      35.87      46.93     423.74  408.11   \n",
       "3    11.0      10.904763   421.59      37.24      42.24     363.13  402.32   \n",
       "4     6.0       9.239786   422.41      37.34      42.52     489.05  396.36   \n",
       "\n",
       "   X_test.1  X_test.2  X_test.3  y_train  \n",
       "0     23.00     38.67    684.75      3.0  \n",
       "1     26.48     32.45    628.68      3.0  \n",
       "2     29.93     29.27    578.41      2.0  \n",
       "3     31.14     26.41    523.32      2.0  \n",
       "4     32.38     20.83    382.75      1.0  "
      ]
     },
     "execution_count": 2,
     "metadata": {},
     "output_type": "execute_result"
    }
   ],
   "source": [
    "df = pd.read_excel(\"data/GET-R2.xlsx\")\n",
    "df.head()"
   ]
  },
  {
   "cell_type": "code",
   "execution_count": 6,
   "metadata": {},
   "outputs": [
    {
     "data": {
      "text/plain": [
       "(108, 2)"
      ]
     },
     "execution_count": 6,
     "metadata": {},
     "output_type": "execute_result"
    }
   ],
   "source": [
    "df2 = pd.read_csv(\"data/R2-test-for-Linear.csv\")\n",
    "df2.shape"
   ]
  },
  {
   "cell_type": "code",
   "execution_count": 12,
   "metadata": {},
   "outputs": [
    {
     "data": {
      "text/html": [
       "<div>\n",
       "<style scoped>\n",
       "    .dataframe tbody tr th:only-of-type {\n",
       "        vertical-align: middle;\n",
       "    }\n",
       "\n",
       "    .dataframe tbody tr th {\n",
       "        vertical-align: top;\n",
       "    }\n",
       "\n",
       "    .dataframe thead th {\n",
       "        text-align: right;\n",
       "    }\n",
       "</style>\n",
       "<table border=\"1\" class=\"dataframe\">\n",
       "  <thead>\n",
       "    <tr style=\"text-align: right;\">\n",
       "      <th></th>\n",
       "      <th>y_test</th>\n",
       "      <th>y_pred_linear</th>\n",
       "    </tr>\n",
       "  </thead>\n",
       "  <tbody>\n",
       "    <tr>\n",
       "      <td>0</td>\n",
       "      <td>3.0</td>\n",
       "      <td>13.416981</td>\n",
       "    </tr>\n",
       "    <tr>\n",
       "      <td>1</td>\n",
       "      <td>3.0</td>\n",
       "      <td>12.277990</td>\n",
       "    </tr>\n",
       "    <tr>\n",
       "      <td>2</td>\n",
       "      <td>3.0</td>\n",
       "      <td>13.801432</td>\n",
       "    </tr>\n",
       "    <tr>\n",
       "      <td>3</td>\n",
       "      <td>4.0</td>\n",
       "      <td>14.032488</td>\n",
       "    </tr>\n",
       "    <tr>\n",
       "      <td>4</td>\n",
       "      <td>4.0</td>\n",
       "      <td>13.640793</td>\n",
       "    </tr>\n",
       "  </tbody>\n",
       "</table>\n",
       "</div>"
      ],
      "text/plain": [
       "   y_test  y_pred_linear\n",
       "0     3.0      13.416981\n",
       "1     3.0      12.277990\n",
       "2     3.0      13.801432\n",
       "3     4.0      14.032488\n",
       "4     4.0      13.640793"
      ]
     },
     "execution_count": 12,
     "metadata": {},
     "output_type": "execute_result"
    }
   ],
   "source": [
    "df2.head()"
   ]
  },
  {
   "cell_type": "code",
   "execution_count": 3,
   "metadata": {},
   "outputs": [
    {
     "data": {
      "text/plain": [
       "(1007, 11)"
      ]
     },
     "execution_count": 3,
     "metadata": {},
     "output_type": "execute_result"
    }
   ],
   "source": [
    "df.shape"
   ]
  },
  {
   "cell_type": "code",
   "execution_count": 4,
   "metadata": {},
   "outputs": [],
   "source": [
    "df.dropna(inplace=True)"
   ]
  },
  {
   "cell_type": "code",
   "execution_count": 5,
   "metadata": {},
   "outputs": [
    {
     "data": {
      "text/plain": [
       "(263, 11)"
      ]
     },
     "execution_count": 5,
     "metadata": {},
     "output_type": "execute_result"
    }
   ],
   "source": [
    "df.shape"
   ]
  },
  {
   "cell_type": "code",
   "execution_count": 28,
   "metadata": {},
   "outputs": [
    {
     "data": {
      "text/plain": [
       "y_test           0\n",
       "y_pred_linear    0\n",
       "X_train          0\n",
       "X_train.1        0\n",
       "X_train.2        0\n",
       "X_train.3        0\n",
       "X_test           0\n",
       "X_test.1         0\n",
       "X_test.2         0\n",
       "X_test.3         0\n",
       "y_train          0\n",
       "dtype: int64"
      ]
     },
     "execution_count": 28,
     "metadata": {},
     "output_type": "execute_result"
    }
   ],
   "source": [
    "df.isna().sum()"
   ]
  },
  {
   "cell_type": "code",
   "execution_count": 6,
   "metadata": {},
   "outputs": [],
   "source": [
    "X = df.iloc[:, 2:6]\n",
    "y = df.iloc[:, -1]"
   ]
  },
  {
   "cell_type": "code",
   "execution_count": 9,
   "metadata": {},
   "outputs": [],
   "source": [
    "from sklearn.linear_model import LinearRegression\n",
    "from sklearn.metrics import r2_score"
   ]
  },
  {
   "cell_type": "code",
   "execution_count": 8,
   "metadata": {},
   "outputs": [],
   "source": [
    "model = LinearRegression()"
   ]
  },
  {
   "cell_type": "code",
   "execution_count": 10,
   "metadata": {},
   "outputs": [],
   "source": [
    "X = X.values\n",
    "y = y.values"
   ]
  },
  {
   "cell_type": "code",
   "execution_count": 19,
   "metadata": {},
   "outputs": [
    {
     "data": {
      "text/plain": [
       "(263, 4)"
      ]
     },
     "execution_count": 19,
     "metadata": {},
     "output_type": "execute_result"
    }
   ],
   "source": [
    "X.shape"
   ]
  },
  {
   "cell_type": "code",
   "execution_count": 11,
   "metadata": {},
   "outputs": [
    {
     "data": {
      "text/plain": [
       "LinearRegression()"
      ]
     },
     "execution_count": 11,
     "metadata": {},
     "output_type": "execute_result"
    }
   ],
   "source": [
    "model.fit(X, y)"
   ]
  },
  {
   "cell_type": "code",
   "execution_count": 12,
   "metadata": {},
   "outputs": [
    {
     "data": {
      "text/plain": [
       "0.3826715140334014"
      ]
     },
     "execution_count": 12,
     "metadata": {},
     "output_type": "execute_result"
    }
   ],
   "source": [
    "model.score(X, y)"
   ]
  },
  {
   "cell_type": "code",
   "execution_count": 13,
   "metadata": {},
   "outputs": [],
   "source": [
    "X_test, y_test = df.iloc[:, 6: 10], df.iloc[:, 0]"
   ]
  },
  {
   "cell_type": "code",
   "execution_count": 14,
   "metadata": {},
   "outputs": [
    {
     "data": {
      "text/plain": [
       "0.2680756547972807"
      ]
     },
     "execution_count": 14,
     "metadata": {},
     "output_type": "execute_result"
    }
   ],
   "source": [
    "model.score(X_test, y_test)"
   ]
  },
  {
   "cell_type": "code",
   "execution_count": 15,
   "metadata": {},
   "outputs": [
    {
     "data": {
      "text/plain": [
       "0.2680756547972807"
      ]
     },
     "execution_count": 15,
     "metadata": {},
     "output_type": "execute_result"
    }
   ],
   "source": [
    "y_pred_linear = model.predict(X_test)\n",
    "r2_score(y_test, y_pred_linear)"
   ]
  },
  {
   "cell_type": "code",
   "execution_count": 16,
   "metadata": {},
   "outputs": [],
   "source": [
    "# from sklearn.linear_model import LinearRegression\n",
    "# reg = LinearRegression().fit(X_train, y_train)\n",
    "# y_pred_linear = reg.predict(X_test)\n",
    "# from sklearn.metrics import r2_score\n",
    "# from sklearn.metrics import mean_squared_error\n",
    "# rms = mean_squared_error(y_test, y_pred_linear, squared=False)\n",
    "# print('R2 for linear regression = {:.3f}'.format(r2_score(y_test, y_pred_linear)))\n",
    "# print('RMSE for linear regression= {:.3f}'.format(rms))"
   ]
  },
  {
   "cell_type": "code",
   "execution_count": 24,
   "metadata": {},
   "outputs": [
    {
     "data": {
      "text/plain": [
       "(1007, 17)"
      ]
     },
     "execution_count": 24,
     "metadata": {},
     "output_type": "execute_result"
    }
   ],
   "source": [
    "my_sheet = 'ATL_ATL_Raw'\n",
    "df = pd.read_excel(\"data/CompileData_ATL_v2.xlsx\", sheet_name = my_sheet, parse_dates=[\"Time\"])\n",
    "df.shape"
   ]
  },
  {
   "cell_type": "code",
   "execution_count": 25,
   "metadata": {},
   "outputs": [
    {
     "data": {
      "text/html": [
       "<div>\n",
       "<style scoped>\n",
       "    .dataframe tbody tr th:only-of-type {\n",
       "        vertical-align: middle;\n",
       "    }\n",
       "\n",
       "    .dataframe tbody tr th {\n",
       "        vertical-align: top;\n",
       "    }\n",
       "\n",
       "    .dataframe thead th {\n",
       "        text-align: right;\n",
       "    }\n",
       "</style>\n",
       "<table border=\"1\" class=\"dataframe\">\n",
       "  <thead>\n",
       "    <tr style=\"text-align: right;\">\n",
       "      <th></th>\n",
       "      <th>Time</th>\n",
       "      <th>Mth</th>\n",
       "      <th>Day</th>\n",
       "      <th>Hr</th>\n",
       "      <th>CO_Sensor</th>\n",
       "      <th>NO2_Sensor</th>\n",
       "      <th>SO2_Sensor</th>\n",
       "      <th>O3_Sensor</th>\n",
       "      <th>PM25_Sensor</th>\n",
       "      <th>PM10_Sensor</th>\n",
       "      <th>Temp</th>\n",
       "      <th>RH</th>\n",
       "      <th>CO</th>\n",
       "      <th>NO2</th>\n",
       "      <th>O3</th>\n",
       "      <th>PM25</th>\n",
       "      <th>PM10</th>\n",
       "    </tr>\n",
       "  </thead>\n",
       "  <tbody>\n",
       "    <tr>\n",
       "      <td>0</td>\n",
       "      <td>2019-06-28 14:00:00</td>\n",
       "      <td>6</td>\n",
       "      <td>28</td>\n",
       "      <td>14</td>\n",
       "      <td>443.87</td>\n",
       "      <td>817.38</td>\n",
       "      <td>1162.52</td>\n",
       "      <td>1329.03</td>\n",
       "      <td>12.00</td>\n",
       "      <td>12.17</td>\n",
       "      <td>31.00</td>\n",
       "      <td>57.17</td>\n",
       "      <td>0.20</td>\n",
       "      <td>3.0</td>\n",
       "      <td>44.0</td>\n",
       "      <td>10.1</td>\n",
       "      <td>19.0</td>\n",
       "    </tr>\n",
       "    <tr>\n",
       "      <td>1</td>\n",
       "      <td>2019-06-28 15:00:00</td>\n",
       "      <td>6</td>\n",
       "      <td>28</td>\n",
       "      <td>15</td>\n",
       "      <td>441.55</td>\n",
       "      <td>663.37</td>\n",
       "      <td>1046.92</td>\n",
       "      <td>1190.95</td>\n",
       "      <td>12.40</td>\n",
       "      <td>14.70</td>\n",
       "      <td>33.30</td>\n",
       "      <td>53.63</td>\n",
       "      <td>0.20</td>\n",
       "      <td>3.0</td>\n",
       "      <td>50.0</td>\n",
       "      <td>10.7</td>\n",
       "      <td>18.0</td>\n",
       "    </tr>\n",
       "    <tr>\n",
       "      <td>2</td>\n",
       "      <td>2019-06-28 16:00:00</td>\n",
       "      <td>6</td>\n",
       "      <td>28</td>\n",
       "      <td>16</td>\n",
       "      <td>430.52</td>\n",
       "      <td>423.74</td>\n",
       "      <td>937.90</td>\n",
       "      <td>1036.15</td>\n",
       "      <td>10.80</td>\n",
       "      <td>12.37</td>\n",
       "      <td>35.87</td>\n",
       "      <td>46.93</td>\n",
       "      <td>0.18</td>\n",
       "      <td>2.0</td>\n",
       "      <td>52.0</td>\n",
       "      <td>10.3</td>\n",
       "      <td>18.0</td>\n",
       "    </tr>\n",
       "    <tr>\n",
       "      <td>3</td>\n",
       "      <td>2019-06-28 17:00:00</td>\n",
       "      <td>6</td>\n",
       "      <td>28</td>\n",
       "      <td>17</td>\n",
       "      <td>421.59</td>\n",
       "      <td>363.13</td>\n",
       "      <td>971.08</td>\n",
       "      <td>1033.35</td>\n",
       "      <td>8.97</td>\n",
       "      <td>10.24</td>\n",
       "      <td>37.24</td>\n",
       "      <td>42.24</td>\n",
       "      <td>0.17</td>\n",
       "      <td>2.0</td>\n",
       "      <td>52.0</td>\n",
       "      <td>9.8</td>\n",
       "      <td>16.0</td>\n",
       "    </tr>\n",
       "    <tr>\n",
       "      <td>4</td>\n",
       "      <td>2019-06-28 18:00:00</td>\n",
       "      <td>6</td>\n",
       "      <td>28</td>\n",
       "      <td>18</td>\n",
       "      <td>422.41</td>\n",
       "      <td>489.05</td>\n",
       "      <td>1100.71</td>\n",
       "      <td>1152.37</td>\n",
       "      <td>9.97</td>\n",
       "      <td>11.38</td>\n",
       "      <td>37.34</td>\n",
       "      <td>42.52</td>\n",
       "      <td>0.17</td>\n",
       "      <td>1.0</td>\n",
       "      <td>49.0</td>\n",
       "      <td>10.1</td>\n",
       "      <td>18.0</td>\n",
       "    </tr>\n",
       "  </tbody>\n",
       "</table>\n",
       "</div>"
      ],
      "text/plain": [
       "                 Time  Mth  Day  Hr  CO_Sensor  NO2_Sensor  SO2_Sensor  \\\n",
       "0 2019-06-28 14:00:00    6   28  14     443.87      817.38     1162.52   \n",
       "1 2019-06-28 15:00:00    6   28  15     441.55      663.37     1046.92   \n",
       "2 2019-06-28 16:00:00    6   28  16     430.52      423.74      937.90   \n",
       "3 2019-06-28 17:00:00    6   28  17     421.59      363.13      971.08   \n",
       "4 2019-06-28 18:00:00    6   28  18     422.41      489.05     1100.71   \n",
       "\n",
       "   O3_Sensor  PM25_Sensor  PM10_Sensor   Temp     RH    CO  NO2    O3  PM25  \\\n",
       "0    1329.03        12.00        12.17  31.00  57.17  0.20  3.0  44.0  10.1   \n",
       "1    1190.95        12.40        14.70  33.30  53.63  0.20  3.0  50.0  10.7   \n",
       "2    1036.15        10.80        12.37  35.87  46.93  0.18  2.0  52.0  10.3   \n",
       "3    1033.35         8.97        10.24  37.24  42.24  0.17  2.0  52.0   9.8   \n",
       "4    1152.37         9.97        11.38  37.34  42.52  0.17  1.0  49.0  10.1   \n",
       "\n",
       "   PM10  \n",
       "0  19.0  \n",
       "1  18.0  \n",
       "2  18.0  \n",
       "3  16.0  \n",
       "4  18.0  "
      ]
     },
     "execution_count": 25,
     "metadata": {},
     "output_type": "execute_result"
    }
   ],
   "source": [
    "df.head()"
   ]
  },
  {
   "cell_type": "code",
   "execution_count": 27,
   "metadata": {},
   "outputs": [
    {
     "data": {
      "text/plain": [
       "dtype('<M8[ns]')"
      ]
     },
     "execution_count": 27,
     "metadata": {},
     "output_type": "execute_result"
    }
   ],
   "source": [
    "df.Time.dtypes"
   ]
  },
  {
   "cell_type": "code",
   "execution_count": 30,
   "metadata": {},
   "outputs": [
    {
     "data": {
      "text/plain": [
       "Time          0\n",
       "CO_Sensor     0\n",
       "NO2_Sensor    0\n",
       "Temp          0\n",
       "RH            0\n",
       "NO2           0\n",
       "dtype: int64"
      ]
     },
     "execution_count": 30,
     "metadata": {},
     "output_type": "execute_result"
    }
   ],
   "source": [
    "df.isna().sum()"
   ]
  },
  {
   "cell_type": "code",
   "execution_count": 28,
   "metadata": {},
   "outputs": [],
   "source": [
    "#Drop unnecessary variables\n",
    "#If you want to incorporate CO sensor , do not drop CO_Sensor parameter\n",
    "df.drop(['Mth','SO2_Sensor','O3_Sensor','PM25_Sensor','PM10_Sensor','CO','O3','PM25','Day','Hr','PM10'],1,inplace=True)\n",
    "# df = df.reset_index(drop=True)\n",
    "df = df.dropna()\n",
    "df = df[df.select_dtypes(include=[np.number]).ge(0).all(1)]\n",
    "dfcali = df[df['Time'] <= '2019-08-08 23:00:00']"
   ]
  },
  {
   "cell_type": "code",
   "execution_count": 31,
   "metadata": {},
   "outputs": [
    {
     "data": {
      "text/plain": [
       "(901, 6)"
      ]
     },
     "execution_count": 31,
     "metadata": {},
     "output_type": "execute_result"
    }
   ],
   "source": [
    "dfcali.shape"
   ]
  },
  {
   "cell_type": "code",
   "execution_count": 33,
   "metadata": {},
   "outputs": [],
   "source": [
    "#Import the dataset for Atlanta Local Calibration Test\n",
    "from pandas import read_excel\n",
    "my_sheet = 'ATL_PTL_Raw'\n",
    "file_name = 'data/CompileData_ATL_v2.xlsx'\n",
    "dfrun = read_excel(file_name, sheet_name = my_sheet)\n",
    "#Drop unnecessary variables\n",
    "dfrun.drop(['Mth','SO2_Sensor','O3_Sensor','PM25_Sensor','PM10_Sensor','CO','O3','PM25','Day','Hr','PM10'],1,inplace=True)\n",
    "# dfrun = dfrun.reset_index(drop=True)\n",
    "dfrun = dfrun.dropna()"
   ]
  },
  {
   "cell_type": "code",
   "execution_count": 34,
   "metadata": {},
   "outputs": [
    {
     "name": "stdout",
     "output_type": "stream",
     "text": [
      "R2 for linear regression = -0.821\n",
      "RMSE for linear regression= 8.295\n"
     ]
    },
    {
     "name": "stderr",
     "output_type": "stream",
     "text": [
      "C:\\Users\\user\\Anaconda3\\lib\\site-packages\\pandas\\core\\frame.py:4102: SettingWithCopyWarning: \n",
      "A value is trying to be set on a copy of a slice from a DataFrame\n",
      "\n",
      "See the caveats in the documentation: http://pandas.pydata.org/pandas-docs/stable/user_guide/indexing.html#returning-a-view-versus-a-copy\n",
      "  errors=errors,\n"
     ]
    }
   ],
   "source": [
    "#define train and test set\n",
    "y_train = np.array(dfcali.NO2)\n",
    "y_test = np.array(dfrun.NO2)\n",
    "dfcali.drop(['NO2','Time'],1,inplace = True)\n",
    "dfrun.drop(['NO2','Time'],1,inplace = True)\n",
    "X_train = dfcali.values\n",
    "X_test = dfrun.values\n",
    "#Run linear regression model\n",
    "from sklearn.linear_model import LinearRegression\n",
    "reg = LinearRegression().fit(X_train, y_train)\n",
    "y_pred_linear = reg.predict(X_test)\n",
    "from sklearn.metrics import r2_score\n",
    "from sklearn.metrics import mean_squared_error\n",
    "rms = mean_squared_error(y_test, y_pred_linear, squared=False)\n",
    "print('R2 for linear regression = {:.3f}'.format(r2_score(y_test, y_pred_linear)))\n",
    "print('RMSE for linear regression= {:.3f}'.format(rms))"
   ]
  },
  {
   "cell_type": "code",
   "execution_count": null,
   "metadata": {},
   "outputs": [],
   "source": []
  }
 ],
 "metadata": {
  "kernelspec": {
   "display_name": "Python 3",
   "language": "python",
   "name": "python3"
  },
  "language_info": {
   "codemirror_mode": {
    "name": "ipython",
    "version": 3
   },
   "file_extension": ".py",
   "mimetype": "text/x-python",
   "name": "python",
   "nbconvert_exporter": "python",
   "pygments_lexer": "ipython3",
   "version": "3.7.4"
  }
 },
 "nbformat": 4,
 "nbformat_minor": 4
}
