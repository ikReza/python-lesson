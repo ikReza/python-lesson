{
 "cells": [
  {
   "cell_type": "markdown",
   "metadata": {},
   "source": [
    "# `for` loop"
   ]
  },
  {
   "cell_type": "markdown",
   "metadata": {},
   "source": [
    "Do you remember how our teachers used to punish us in the school \n",
    "- when we got poor marks in the exam or \n",
    "- when we didn't follow the school rules or \n",
    "- when our handwriting was not good?\n",
    "\n",
    "🤵 They used to tell us to write some specific thing for 100 times."
   ]
  },
  {
   "cell_type": "markdown",
   "metadata": {},
   "source": [
    "**Our teacher:** Write your name 100 times.\n",
    "\n",
    "We wrote like this:"
   ]
  },
  {
   "cell_type": "code",
   "execution_count": 9,
   "metadata": {},
   "outputs": [
    {
     "name": "stdout",
     "output_type": "stream",
     "text": [
      "I am Ibrahim kaiser Reza. I will follow the school rules from now on.\n",
      "I am Ibrahim kaiser Reza. I will follow the school rules from now on.\n",
      "I am Ibrahim kaiser Reza. I will follow the school rules from now on.\n"
     ]
    }
   ],
   "source": [
    "print(\"I am Ibrahim kaiser Reza. I will follow the school rules from now on.\")\n",
    "print(\"I am Ibrahim kaiser Reza. I will follow the school rules from now on.\")\n",
    "print(\"I am Ibrahim kaiser Reza. I will follow the school rules from now on.\")\n",
    "# ... ... continues"
   ]
  },
  {
   "cell_type": "markdown",
   "metadata": {},
   "source": [
    "It was very painful and boring to write the same thing for 100 times. I wish I know Python at that time. Using Python for loop now I can write this for 100 times or far more than 100 😁😀😁"
   ]
  },
  {
   "cell_type": "code",
   "execution_count": 8,
   "metadata": {},
   "outputs": [
    {
     "name": "stdout",
     "output_type": "stream",
     "text": [
      "I am Ibrahim kaiser Reza. I will follow the school rules from now on.\n",
      "I am Ibrahim kaiser Reza. I will follow the school rules from now on.\n",
      "I am Ibrahim kaiser Reza. I will follow the school rules from now on.\n",
      "I am Ibrahim kaiser Reza. I will follow the school rules from now on.\n",
      "I am Ibrahim kaiser Reza. I will follow the school rules from now on.\n",
      "I am Ibrahim kaiser Reza. I will follow the school rules from now on.\n",
      "I am Ibrahim kaiser Reza. I will follow the school rules from now on.\n",
      "I am Ibrahim kaiser Reza. I will follow the school rules from now on.\n",
      "I am Ibrahim kaiser Reza. I will follow the school rules from now on.\n",
      "I am Ibrahim kaiser Reza. I will follow the school rules from now on.\n",
      "I am Ibrahim kaiser Reza. I will follow the school rules from now on.\n",
      "I am Ibrahim kaiser Reza. I will follow the school rules from now on.\n",
      "I am Ibrahim kaiser Reza. I will follow the school rules from now on.\n",
      "I am Ibrahim kaiser Reza. I will follow the school rules from now on.\n",
      "I am Ibrahim kaiser Reza. I will follow the school rules from now on.\n",
      "I am Ibrahim kaiser Reza. I will follow the school rules from now on.\n",
      "I am Ibrahim kaiser Reza. I will follow the school rules from now on.\n",
      "I am Ibrahim kaiser Reza. I will follow the school rules from now on.\n",
      "I am Ibrahim kaiser Reza. I will follow the school rules from now on.\n",
      "I am Ibrahim kaiser Reza. I will follow the school rules from now on.\n",
      "I am Ibrahim kaiser Reza. I will follow the school rules from now on.\n",
      "I am Ibrahim kaiser Reza. I will follow the school rules from now on.\n",
      "I am Ibrahim kaiser Reza. I will follow the school rules from now on.\n",
      "I am Ibrahim kaiser Reza. I will follow the school rules from now on.\n",
      "I am Ibrahim kaiser Reza. I will follow the school rules from now on.\n",
      "I am Ibrahim kaiser Reza. I will follow the school rules from now on.\n",
      "I am Ibrahim kaiser Reza. I will follow the school rules from now on.\n",
      "I am Ibrahim kaiser Reza. I will follow the school rules from now on.\n",
      "I am Ibrahim kaiser Reza. I will follow the school rules from now on.\n",
      "I am Ibrahim kaiser Reza. I will follow the school rules from now on.\n",
      "I am Ibrahim kaiser Reza. I will follow the school rules from now on.\n",
      "I am Ibrahim kaiser Reza. I will follow the school rules from now on.\n",
      "I am Ibrahim kaiser Reza. I will follow the school rules from now on.\n",
      "I am Ibrahim kaiser Reza. I will follow the school rules from now on.\n",
      "I am Ibrahim kaiser Reza. I will follow the school rules from now on.\n",
      "I am Ibrahim kaiser Reza. I will follow the school rules from now on.\n",
      "I am Ibrahim kaiser Reza. I will follow the school rules from now on.\n",
      "I am Ibrahim kaiser Reza. I will follow the school rules from now on.\n",
      "I am Ibrahim kaiser Reza. I will follow the school rules from now on.\n",
      "I am Ibrahim kaiser Reza. I will follow the school rules from now on.\n",
      "I am Ibrahim kaiser Reza. I will follow the school rules from now on.\n",
      "I am Ibrahim kaiser Reza. I will follow the school rules from now on.\n",
      "I am Ibrahim kaiser Reza. I will follow the school rules from now on.\n",
      "I am Ibrahim kaiser Reza. I will follow the school rules from now on.\n",
      "I am Ibrahim kaiser Reza. I will follow the school rules from now on.\n",
      "I am Ibrahim kaiser Reza. I will follow the school rules from now on.\n",
      "I am Ibrahim kaiser Reza. I will follow the school rules from now on.\n",
      "I am Ibrahim kaiser Reza. I will follow the school rules from now on.\n",
      "I am Ibrahim kaiser Reza. I will follow the school rules from now on.\n",
      "I am Ibrahim kaiser Reza. I will follow the school rules from now on.\n",
      "I am Ibrahim kaiser Reza. I will follow the school rules from now on.\n",
      "I am Ibrahim kaiser Reza. I will follow the school rules from now on.\n",
      "I am Ibrahim kaiser Reza. I will follow the school rules from now on.\n",
      "I am Ibrahim kaiser Reza. I will follow the school rules from now on.\n",
      "I am Ibrahim kaiser Reza. I will follow the school rules from now on.\n",
      "I am Ibrahim kaiser Reza. I will follow the school rules from now on.\n",
      "I am Ibrahim kaiser Reza. I will follow the school rules from now on.\n",
      "I am Ibrahim kaiser Reza. I will follow the school rules from now on.\n",
      "I am Ibrahim kaiser Reza. I will follow the school rules from now on.\n",
      "I am Ibrahim kaiser Reza. I will follow the school rules from now on.\n",
      "I am Ibrahim kaiser Reza. I will follow the school rules from now on.\n",
      "I am Ibrahim kaiser Reza. I will follow the school rules from now on.\n",
      "I am Ibrahim kaiser Reza. I will follow the school rules from now on.\n",
      "I am Ibrahim kaiser Reza. I will follow the school rules from now on.\n",
      "I am Ibrahim kaiser Reza. I will follow the school rules from now on.\n",
      "I am Ibrahim kaiser Reza. I will follow the school rules from now on.\n",
      "I am Ibrahim kaiser Reza. I will follow the school rules from now on.\n",
      "I am Ibrahim kaiser Reza. I will follow the school rules from now on.\n",
      "I am Ibrahim kaiser Reza. I will follow the school rules from now on.\n",
      "I am Ibrahim kaiser Reza. I will follow the school rules from now on.\n",
      "I am Ibrahim kaiser Reza. I will follow the school rules from now on.\n",
      "I am Ibrahim kaiser Reza. I will follow the school rules from now on.\n",
      "I am Ibrahim kaiser Reza. I will follow the school rules from now on.\n",
      "I am Ibrahim kaiser Reza. I will follow the school rules from now on.\n",
      "I am Ibrahim kaiser Reza. I will follow the school rules from now on.\n",
      "I am Ibrahim kaiser Reza. I will follow the school rules from now on.\n",
      "I am Ibrahim kaiser Reza. I will follow the school rules from now on.\n",
      "I am Ibrahim kaiser Reza. I will follow the school rules from now on.\n",
      "I am Ibrahim kaiser Reza. I will follow the school rules from now on.\n",
      "I am Ibrahim kaiser Reza. I will follow the school rules from now on.\n",
      "I am Ibrahim kaiser Reza. I will follow the school rules from now on.\n",
      "I am Ibrahim kaiser Reza. I will follow the school rules from now on.\n",
      "I am Ibrahim kaiser Reza. I will follow the school rules from now on.\n",
      "I am Ibrahim kaiser Reza. I will follow the school rules from now on.\n",
      "I am Ibrahim kaiser Reza. I will follow the school rules from now on.\n",
      "I am Ibrahim kaiser Reza. I will follow the school rules from now on.\n",
      "I am Ibrahim kaiser Reza. I will follow the school rules from now on.\n",
      "I am Ibrahim kaiser Reza. I will follow the school rules from now on.\n",
      "I am Ibrahim kaiser Reza. I will follow the school rules from now on.\n",
      "I am Ibrahim kaiser Reza. I will follow the school rules from now on.\n",
      "I am Ibrahim kaiser Reza. I will follow the school rules from now on.\n",
      "I am Ibrahim kaiser Reza. I will follow the school rules from now on.\n",
      "I am Ibrahim kaiser Reza. I will follow the school rules from now on.\n",
      "I am Ibrahim kaiser Reza. I will follow the school rules from now on.\n",
      "I am Ibrahim kaiser Reza. I will follow the school rules from now on.\n",
      "I am Ibrahim kaiser Reza. I will follow the school rules from now on.\n",
      "I am Ibrahim kaiser Reza. I will follow the school rules from now on.\n",
      "I am Ibrahim kaiser Reza. I will follow the school rules from now on.\n",
      "I am Ibrahim kaiser Reza. I will follow the school rules from now on.\n",
      "I am Ibrahim kaiser Reza. I will follow the school rules from now on.\n"
     ]
    }
   ],
   "source": [
    "for _ in range(100):\n",
    "    print(\"I am Ibrahim kaiser Reza. I will follow the school rules from now on.\")"
   ]
  },
  {
   "cell_type": "markdown",
   "metadata": {},
   "source": [
    "#### breaking down the above code\n",
    "\n",
    "```py\n",
    "for _ in range(100):\n",
    "```\n",
    "\n",
    "here, `range()` is a function. I could write:\n",
    "```py\n",
    "for _ in range(0, 100):\n",
    "```\n",
    "\n",
    "Both are same. `range()` function automatically starts counting from 0. So I didn't write 0 at the first place.\n",
    "\n",
    "Now what is `_` after `for` keyword.\n",
    "\n",
    "I could write:\n",
    "```py\n",
    "for x in range(100):\n",
    "```\n",
    "\n",
    "but I'm not using the value of `x` anywhere in the loop. So it's common practise to use `_` when we don't use the variable.\n",
    "\n",
    "I am showing another example below where we use the variable"
   ]
  },
  {
   "cell_type": "code",
   "execution_count": 4,
   "metadata": {},
   "outputs": [
    {
     "name": "stdout",
     "output_type": "stream",
     "text": [
      "0\n",
      "1\n",
      "2\n",
      "3\n",
      "4\n"
     ]
    }
   ],
   "source": [
    "for x in range(5):\n",
    "    print(x)"
   ]
  },
  {
   "cell_type": "markdown",
   "metadata": {},
   "source": [
    "##### Note: the loop will count from to 0 to 4"
   ]
  },
  {
   "cell_type": "markdown",
   "metadata": {},
   "source": [
    "### Task-1: Write multplication table for 15 using for loop"
   ]
  },
  {
   "cell_type": "code",
   "execution_count": 10,
   "metadata": {},
   "outputs": [
    {
     "name": "stdout",
     "output_type": "stream",
     "text": [
      "15 x 1 = 15\n",
      "15 x 2 = 30\n",
      "15 x 3 = 45\n",
      "15 x 4 = 60\n",
      "15 x 5 = 75\n",
      "15 x 6 = 90\n",
      "15 x 7 = 105\n",
      "15 x 8 = 120\n",
      "15 x 9 = 135\n",
      "15 x 10 = 150\n"
     ]
    }
   ],
   "source": [
    "for x in range(1, 11):\n",
    "    print(f\"15 x {x} = {15*x}\")"
   ]
  },
  {
   "cell_type": "markdown",
   "metadata": {},
   "source": [
    "##### Note: Now we've specified the first value in the `range()` function because we've to start from 1."
   ]
  },
  {
   "cell_type": "code",
   "execution_count": null,
   "metadata": {},
   "outputs": [],
   "source": []
  }
 ],
 "metadata": {
  "kernelspec": {
   "display_name": "Python 3",
   "language": "python",
   "name": "python3"
  },
  "language_info": {
   "codemirror_mode": {
    "name": "ipython",
    "version": 3
   },
   "file_extension": ".py",
   "mimetype": "text/x-python",
   "name": "python",
   "nbconvert_exporter": "python",
   "pygments_lexer": "ipython3",
   "version": "3.7.4"
  }
 },
 "nbformat": 4,
 "nbformat_minor": 2
}
